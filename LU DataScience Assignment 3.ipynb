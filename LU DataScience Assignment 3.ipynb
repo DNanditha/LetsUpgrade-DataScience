{
 "cells": [
  {
   "cell_type": "code",
   "execution_count": 1,
   "metadata": {},
   "outputs": [
    {
     "name": "stdout",
     "output_type": "stream",
     "text": [
      "[ 2  5  8 11 14 17 20 23 26 29 32 35 38 41 44 47]\n"
     ]
    }
   ],
   "source": [
    "#Q1\n",
    "import numpy as np\n",
    "arr=np.arange(2,50,3)\n",
    "print(arr)"
   ]
  },
  {
   "cell_type": "code",
   "execution_count": 5,
   "metadata": {},
   "outputs": [
    {
     "name": "stdout",
     "output_type": "stream",
     "text": [
      "3\n",
      "5\n",
      "1\n",
      "4\n",
      "2\n",
      "10\n",
      "7\n",
      "9\n",
      "6\n",
      "8\n",
      "[ 3  5  1  4  2 10  7  9  6  8]\n",
      "[1 2 3 4 5]\n",
      "[ 6  7  8  9 10]\n"
     ]
    }
   ],
   "source": [
    "#Q2\n",
    "import numpy as np\n",
    "l1=[]\n",
    "l2=[]\n",
    "for i in range(0,5):\n",
    "    ls1=int(input())\n",
    "    l1.append(ls1)\n",
    "for i in range(0,5):\n",
    "    ls2=int(input())\n",
    "    l2.append(ls2)\n",
    "narr1=np.array(l1)\n",
    "narr2=np.array(l2)\n",
    "print(np.concatenate((narr1,narr2),axis=None))\n",
    "x=np.sort(narr1)\n",
    "print(x)\n",
    "y=np.sort(narr2)\n",
    "print(y)"
   ]
  },
  {
   "cell_type": "code",
   "execution_count": 19,
   "metadata": {},
   "outputs": [
    {
     "name": "stdout",
     "output_type": "stream",
     "text": [
      "[[[ 0  1  2  3]\n",
      "  [ 4  5  6  7]]\n",
      "\n",
      " [[ 8  9 10 11]\n",
      "  [12 13 14 15]]\n",
      "\n",
      " [[16 17 18 19]\n",
      "  [20 21 22 23]]]\n",
      "3\n",
      "24\n",
      "\n",
      "[[[1, 2, 3], [9, 8, 7]], [[4, 5, 6], [3, 2, 1]]]\n",
      "12\n",
      "3\n"
     ]
    }
   ],
   "source": [
    "#Q3\n",
    "import numpy as np\n",
    "arr=np.arange(24).reshape(3,2,4)\n",
    "print(arr)\n",
    "print(arr.ndim)\n",
    "print(arr.size)\n",
    "\n",
    "#or\n",
    "ar1=[[[1,2,3],\n",
    "      [9,8,7]],\n",
    "     [[4,5,6],\n",
    "      [3,2,1]]]\n",
    "print()\n",
    "print(ar1)\n",
    "print(np.size(ar1))\n",
    "print(np.ndim(ar1))"
   ]
  },
  {
   "cell_type": "code",
   "execution_count": 25,
   "metadata": {},
   "outputs": [
    {
     "name": "stdout",
     "output_type": "stream",
     "text": [
      "[1 2 3 4 5 6]\n",
      "(6,)\n",
      "[[1]\n",
      " [2]\n",
      " [3]\n",
      " [4]\n",
      " [5]\n",
      " [6]]\n",
      "(6, 1)\n",
      "[[1 2 3 4 5 6]]\n",
      "(1, 6)\n"
     ]
    }
   ],
   "source": [
    "#Q4\n",
    "import numpy as np\n",
    "a=np.array([1,2,3,4,5,6])\n",
    "print(a)\n",
    "print(a.shape)\n",
    "b=np.expand_dims(a, axis=1)\n",
    "print(b)\n",
    "print(b.shape)\n",
    "c=a[np.newaxis, :]\n",
    "print(c)\n",
    "print(c.shape)"
   ]
  },
  {
   "cell_type": "code",
   "execution_count": 34,
   "metadata": {},
   "outputs": [
    {
     "name": "stdout",
     "output_type": "stream",
     "text": [
      "[[0 1 2]\n",
      " [3 4 5]\n",
      " [6 7 8]]\n",
      "[[ 0  2  4]\n",
      " [ 6  8 10]\n",
      " [12 14 16]]\n",
      "[0 1 2 3 4 5 6 7 8]\n",
      "[ 0  2  4  6  8 10 12 14 16]\n",
      "[[0 1 2]\n",
      " [3 4 5]\n",
      " [6 7 8]]\n",
      "[[ 0  2  4]\n",
      " [ 6  8 10]\n",
      " [12 14 16]]\n",
      "[[0]\n",
      " [1]\n",
      " [2]\n",
      " [3]\n",
      " [4]\n",
      " [5]\n",
      " [6]\n",
      " [7]\n",
      " [8]]\n",
      "[[ 0]\n",
      " [ 2]\n",
      " [ 4]\n",
      " [ 6]\n",
      " [ 8]\n",
      " [10]\n",
      " [12]\n",
      " [14]\n",
      " [16]]\n"
     ]
    }
   ],
   "source": [
    "#Q5\n",
    "import numpy as np\n",
    "a1=np.arange(9).reshape(3,3)\n",
    "a2=a1*2\n",
    "print(a1)\n",
    "print(a2)\n",
    "ha1=np.hstack(a1)\n",
    "ha2=np.hstack(a2)\n",
    "print(ha1)\n",
    "print(ha2)\n",
    "print(np.vstack(a1))\n",
    "print(np.vstack(a2))\n",
    "print(np.vstack(ha1))\n",
    "print(np.vstack(ha2))"
   ]
  },
  {
   "cell_type": "code",
   "execution_count": null,
   "metadata": {},
   "outputs": [],
   "source": [
    "#Q6\n",
    "Using pandas"
   ]
  }
 ],
 "metadata": {
  "kernelspec": {
   "display_name": "Python 3",
   "language": "python",
   "name": "python3"
  },
  "language_info": {
   "codemirror_mode": {
    "name": "ipython",
    "version": 3
   },
   "file_extension": ".py",
   "mimetype": "text/x-python",
   "name": "python",
   "nbconvert_exporter": "python",
   "pygments_lexer": "ipython3",
   "version": "3.8.3"
  }
 },
 "nbformat": 4,
 "nbformat_minor": 4
}
